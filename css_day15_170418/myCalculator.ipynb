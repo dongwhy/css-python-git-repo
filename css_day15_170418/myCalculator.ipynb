{
 "cells": [
  {
   "cell_type": "code",
   "execution_count": 1,
   "metadata": {
    "collapsed": true
   },
   "outputs": [],
   "source": [
    "from stack import Stack"
   ]
  },
  {
   "cell_type": "code",
   "execution_count": 53,
   "metadata": {
    "collapsed": false
   },
   "outputs": [],
   "source": [
    "class Calculator :\n",
    "    #생성자\n",
    "    def __init__(self, org_exp) : #org_exp : 중위표기법 식\n",
    "        self.org_exp = org_exp.replace(' ','') #입력시 생기는 빈칸을 없앤다.\n",
    "        self.postfix_exp = []\n",
    "    \n",
    "    #operator의 가중치를 주는 메소드\n",
    "    def get_weight(self, oprt) :\n",
    "        if oprt == '*' or oprt == '/' :\n",
    "            return 9\n",
    "        elif oprt == '+' or oprt == '-' :\n",
    "            return 7\n",
    "        elif oprt == '(' :\n",
    "            return 5\n",
    "        else :\n",
    "            return None\n",
    "    \n",
    "    def convert_to_postfix(self) :\n",
    "        exp_list = []\n",
    "        oprt_stack = Stack()\n",
    "        for ch in self.org_exp :\n",
    "            # ch 가 숫자라면 exp_list에 append\n",
    "            if ch.isdigit() :\n",
    "                exp_list.append(ch)\n",
    "            # ch 가 연산자라면\n",
    "            else :\n",
    "                # ( 이거나 oprt_stack이 비어있으면, ch는 스택에 푸시\n",
    "                if ch == '(' or oprt_stack.is_empty() :\n",
    "                    oprt_stack.push(ch)\n",
    "                # ) 이면, 스택내에서 ( 일때까지 반복해서 pop 후 exp_list 에 추가\n",
    "                elif ch == ')' :\n",
    "                    while oprt_stack.peek() != '(' :\n",
    "                        exp_list.append(oprt_stack.pop())\n",
    "                    oprt_stack.pop() # ( 는 삭제\n",
    "                # ch == '+-*/' 이면, 가중치에 따라 처리\n",
    "                else : \n",
    "                    # ch의 가중치가 peek 보다 더크면 스택에 푸시\n",
    "                    if self.get_weight(ch) > self.get_weight(oprt_stack.peek()) :\n",
    "                        oprt_stack.push(ch)\n",
    "                    # ch 가중치가 peek 보다 작으면, 클때까지 pop해서 exp_list에 추가\n",
    "                    else :\n",
    "                        while oprt_stack and self.get_weight(ch) <= self.get_weight(oprt_stack.peek()) :\n",
    "                            exp_list.append(oprt_stack.pop())\n",
    "                        oprt_stack.push(ch) # exp_list에 추가가완료되고, ch는 스택에 푸시\n",
    "        \n",
    "        # 스택에 데이터가 있으면, pop해서 exp_list에 추가\n",
    "        while oprt_stack :\n",
    "            exp_list.append(oprt_stack.pop())\n",
    "        \n",
    "        self.postfix_exp = ''.join(exp_list) #exp_list = ['(', '3', '+', '5', ')']  => ['(3+5)']\n",
    "                    \n",
    "                    \n",
    "    #operand 2개를 받아서 계산하는 메소드\n",
    "    def calc_two_oprd(self, oprd1, oprd2, oprt) :\n",
    "        if oprt == '+' :\n",
    "            return oprd1 + oprd2\n",
    "        elif oprt == '-' :\n",
    "            return oprd1 - oprd2\n",
    "        elif oprt == '*' :\n",
    "            return oprd1 * oprd2\n",
    "        elif oprt == '/' :\n",
    "            return oprd1 // oprd2\n",
    "        else :\n",
    "            return None\n",
    "    \n",
    "    def calculate(self):\n",
    "        oprd_stack = Stack()\n",
    "        for ch in self.postfix_exp : \n",
    "            if ch.isdigit() : \n",
    "                oprd_stack.push(int(ch)) # ch를 숫자로 변환해서 넣는다\n",
    "            else : \n",
    "                oprd2 = oprd_stack.pop()\n",
    "                oprd1 = oprd_stack.pop()\n",
    "                oprd_stack.push(self.calc_two_oprd(oprd1, oprd2, ch))\n",
    "            \n",
    "        return oprd_stack.pop()\n",
    "                "
   ]
  },
  {
   "cell_type": "code",
   "execution_count": 54,
   "metadata": {
    "collapsed": false
   },
   "outputs": [
    {
     "name": "stdout",
     "output_type": "stream",
     "text": [
      "수식을 입력하세요 : (5 + 3 * 7 / 2 ) + 3 - 7 * (6 - 3 * 7)\n",
      "537*2/+3+7637*-*-\n",
      "123\n"
     ]
    }
   ],
   "source": [
    "if __name__ == \"__main__\" :\n",
    "    a = input(\"수식을 입력하세요 : \")\n",
    "    calc = Calculator(a)\n",
    "    calc.convert_to_postfix()\n",
    "    print(calc.postfix_exp)\n",
    "    print(calc.calculate())"
   ]
  },
  {
   "cell_type": "code",
   "execution_count": null,
   "metadata": {
    "collapsed": true
   },
   "outputs": [],
   "source": []
  }
 ],
 "metadata": {
  "kernelspec": {
   "display_name": "Python 3",
   "language": "python",
   "name": "python3"
  },
  "language_info": {
   "codemirror_mode": {
    "name": "ipython",
    "version": 3
   },
   "file_extension": ".py",
   "mimetype": "text/x-python",
   "name": "python",
   "nbconvert_exporter": "python",
   "pygments_lexer": "ipython3",
   "version": "3.6.1"
  }
 },
 "nbformat": 4,
 "nbformat_minor": 2
}
