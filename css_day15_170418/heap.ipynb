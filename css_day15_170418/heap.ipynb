{
 "cells": [
  {
   "cell_type": "code",
   "execution_count": null,
   "metadata": {
    "collapsed": true
   },
   "outputs": [],
   "source": [
    "class Heap :\n",
    "    def __ init__(self, s_min_max = \"min\") : #default : 최소힙(min)\n",
    "        self.dynamic_arr = [None, ]\n",
    "        self.num_of_data = 0\n",
    "    def get_parent_idx(self, idx) :\n",
    "        pass\n",
    "    def get_elft_child_idx(self, idx):\n",
    "        pass\n",
    "    def get_right_child_idx(self,idx):\n",
    "        pass        \n",
    "    def is_empty(self) :\n",
    "        pass\n",
    "    def size(self) :\n",
    "        pass\n",
    "    #\n",
    "    def insert(self, data) :\n",
    "        pass\n",
    "    #단말노드면 None 반환, 아니면 우선순위가 높은 자식노드의 index 반환\n",
    "    def which_is_prior_child(self, idx) :\n",
    "        pass\n",
    "    # root node를 반환하고 삭제\n",
    "    def delete(self) :\n",
    "        pass\n",
    "    \n",
    "# delete를 계속해서 출력해보면, 정렬되어서 출력될것임\n",
    "    "
   ]
  }
 ],
 "metadata": {
  "kernelspec": {
   "display_name": "Python 3",
   "language": "python",
   "name": "python3"
  },
  "language_info": {
   "codemirror_mode": {
    "name": "ipython",
    "version": 3
   },
   "file_extension": ".py",
   "mimetype": "text/x-python",
   "name": "python",
   "nbconvert_exporter": "python",
   "pygments_lexer": "ipython3",
   "version": "3.6.1"
  }
 },
 "nbformat": 4,
 "nbformat_minor": 2
}
