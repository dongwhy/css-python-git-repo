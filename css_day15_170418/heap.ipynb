{
 "cells": [
  {
   "cell_type": "code",
   "execution_count": 5,
   "metadata": {
    "collapsed": false,
    "deletable": true,
    "editable": true
   },
   "outputs": [],
   "source": [
    "class Heap :    \n",
    "    def __init__(self, s_min_max = \"min\") : #default : 최소힙(min)\n",
    "        self.dynamic_arr = [None, ]\n",
    "        self.num_of_data = 0\n",
    "        \n",
    "    def get_parent_idx(self, idx) :\n",
    "        return idx//2\n",
    "    \n",
    "    def get_left_child_idx(self, idx):\n",
    "        return idx*2\n",
    "    \n",
    "    def get_right_child_idx(self,idx):\n",
    "        return idx*2+1\n",
    "    \n",
    "    def is_empty(self) :\n",
    "        if self.num_of_data == 0 :\n",
    "            return true\n",
    "        else :\n",
    "            return false\n",
    "        \n",
    "    def size(self) :\n",
    "        return self.num_of_data\n",
    "    \n",
    "    def insert(self, data) :\n",
    "        # 위아래, 왼쪽오른쪽 순서로 추가(맨 마지막 노드에 새로운 데이터를 추가)\n",
    "        self.dynamic_arr.append(data)\n",
    "        self.num_of_data = len(self.dynamic_arr) - 1         #len에는 초항 None의 개수가 포함되어있어서 -1\n",
    "        \n",
    "        parent_idx = 1 # 처음에 root node가 부모노드\n",
    "        \n",
    "        # 부모노드와 마지막노드 크기비교\n",
    "        while data > self.dynamic_arr[parent_idx] :\n",
    "            (self.dynamic_arr[parent_idx], self.dynamic_arr[self.num_of_data]) = (self.dynamic_arr[self.num_of_data], self.dynamic_arr[parent_idx])\n",
    "            \n",
    "    #단말노드면 None 반환, 아니면 우선순위가 높은 자식노드의 index 반환\n",
    "    def which_is_prior_child(self, idx) :\n",
    "        pass\n",
    "    # root node를 반환하고 삭제\n",
    "    def delete(self) :\n",
    "        pass\n",
    "    \n",
    "# delete를 계속해서 출력해보면, 정렬되어서 출력될것임\n",
    "    "
   ]
  },
  {
   "cell_type": "code",
   "execution_count": 4,
   "metadata": {
    "collapsed": false
   },
   "outputs": [],
   "source": []
  },
  {
   "cell_type": "code",
   "execution_count": null,
   "metadata": {
    "collapsed": true
   },
   "outputs": [],
   "source": []
  }
 ],
 "metadata": {
  "kernelspec": {
   "display_name": "Python 3",
   "language": "python",
   "name": "python3"
  },
  "language_info": {
   "codemirror_mode": {
    "name": "ipython",
    "version": 3
   },
   "file_extension": ".py",
   "mimetype": "text/x-python",
   "name": "python",
   "nbconvert_exporter": "python",
   "pygments_lexer": "ipython3",
   "version": "3.6.1"
  }
 },
 "nbformat": 4,
 "nbformat_minor": 2
}
