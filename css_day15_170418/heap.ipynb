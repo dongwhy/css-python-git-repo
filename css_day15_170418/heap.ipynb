{
 "cells": [
  {
   "cell_type": "code",
   "execution_count": 34,
   "metadata": {
    "collapsed": false,
    "deletable": true,
    "editable": true
   },
   "outputs": [],
   "source": [
    "class Heap :    \n",
    "    def __init__(self, s_min_max = \"min\") : #default : 최소힙(min)\n",
    "        self.dynamic_arr = [None, ]\n",
    "        self.num_of_data = 0\n",
    "        \n",
    "    def get_parent_idx(self, idx) :\n",
    "        return idx//2\n",
    "    \n",
    "    def get_left_child_idx(self, idx):\n",
    "        return idx*2\n",
    "    \n",
    "    def get_right_child_idx(self,idx):\n",
    "        return idx*2+1\n",
    "    \n",
    "    def is_empty(self) :\n",
    "        if self.num_of_data == 0 :\n",
    "            return True\n",
    "        else :\n",
    "            return False\n",
    "        \n",
    "    def size(self) :\n",
    "        return self.num_of_data\n",
    "    \n",
    "    def insert(self, data) :\n",
    "        # 위아래, 왼쪽오른쪽 순서로 추가(맨 마지막 노드에 새로운 데이터를 추가)\n",
    "        self.dynamic_arr.append(data)\n",
    "        self.num_of_data = len(self.dynamic_arr) - 1         #len에는 초항 None의 개수가 포함되어있어서 -1\n",
    "        \n",
    "        parent_idx = self.num_of_data // 2 #data의 부모노드\n",
    "        data_idx = self.num_of_data\n",
    "        \n",
    "        if data_idx == 1 : # data가 root에 도달했을경우 멈춘다.\n",
    "            return None\n",
    "        \n",
    "        # 부모노드와 data노드 크기비교\n",
    "        while data < self.dynamic_arr[parent_idx] :\n",
    "            (self.dynamic_arr[parent_idx], self.dynamic_arr[data_idx]) = (self.dynamic_arr[data_idx], self.dynamic_arr[parent_idx])\n",
    "            \n",
    "            data_idx = parent_idx\n",
    "            parent_idx = data_idx // 2\n",
    "            \n",
    "            if data_idx == 1 : # data가 root에 도달했을경우 멈춘다.\n",
    "                return None\n",
    "            \n",
    "    #단말노드면 None 반환, 아니면 우선순위가 높은 자식노드의 index 반환\n",
    "    def which_is_prior_child(self, idx) :\n",
    "        parent_idx = idx\n",
    "        left_child_idx = self.get_left_child_idx(parent_idx)\n",
    "        right_child_idx = self.get_right_child_idx(parent_idx)\n",
    "        \n",
    "        if left_child_idx > self.num_of_data : # 단말노드, delete종료\n",
    "            return None\n",
    "        elif left_child_idx == self.num_of_data : # 자식노드가 1개, left_child_idx를 return\n",
    "            return left_child_idx\n",
    "        else : # 자식노드가 2개일때,\n",
    "             # left, right 중에 더 작은 child_idx를 return(삼항연산자)         \n",
    "            lambda min_child_idx : left_child_idx if self.dynamic_arr[left_child_idx] < self.dynamic_arr[right_child_idx]\\\n",
    "            else right_child_idx\n",
    "            return min_child_idx   \n",
    "    \n",
    "    # root node를 반환하고 삭제\n",
    "    def delete(self) :\n",
    "        delete_node = self.dynamic_arr[1] # root노드를 제거할 노드에 봔환        \n",
    "        self.dynamic_arr[1] = self.dynamic_arr[self.num_of_data] # 맨마지막노드를 root로 올린다.\n",
    "        self.num_of_data -= 1 # data 수를 1 감소\n",
    "        \n",
    "        parent_idx = 1\n",
    "        min_child_idx = self.which_is_prior_child(parent_idx)\n",
    "        if min_child_idx == None :\n",
    "            return None\n",
    "        else :\n",
    "            while self.dynamic_arr[parent_idx] > self.dynamic_arr[min_child_idx] :\n",
    "                (self.dynamic_arr[parent_idx], self.dynamic_arr[min_child_idx]) = (self.dynamic_arr[min_child_idx], self.dynamic_arr[parent_idx])\n",
    "                parent_idx = min_child_idx\n",
    "                min_child_idx = self.which_is_prior_child(parent_idx)\n",
    "                \n",
    "# delete를 계속해서 출력해보면, 정렬되어서 출력될것임\n",
    "    "
   ]
  },
  {
   "cell_type": "code",
   "execution_count": 15,
   "metadata": {
    "collapsed": false
   },
   "outputs": [],
   "source": [
    "h = Heap()"
   ]
  },
  {
   "cell_type": "code",
   "execution_count": 16,
   "metadata": {
    "collapsed": false
   },
   "outputs": [
    {
     "data": {
      "text/plain": [
       "True"
      ]
     },
     "execution_count": 16,
     "metadata": {},
     "output_type": "execute_result"
    }
   ],
   "source": [
    "h.is_empty()"
   ]
  },
  {
   "cell_type": "code",
   "execution_count": 20,
   "metadata": {
    "collapsed": false
   },
   "outputs": [],
   "source": [
    "h.insert(3)\n",
    "h.insert(5)\n",
    "h.insert(7)\n",
    "h.insert(4)\n",
    "h.insert(6)\n",
    "h.insert(10)\n",
    "h.insert(8)\n",
    "h.insert(7)"
   ]
  },
  {
   "cell_type": "code",
   "execution_count": 21,
   "metadata": {
    "collapsed": false
   },
   "outputs": [
    {
     "data": {
      "text/plain": [
       "[None, 1, 3, 5, 7, 4, 6, 10, 8, 7]"
      ]
     },
     "execution_count": 21,
     "metadata": {},
     "output_type": "execute_result"
    }
   ],
   "source": [
    "h.dynamic_arr"
   ]
  },
  {
   "cell_type": "code",
   "execution_count": 22,
   "metadata": {
    "collapsed": true
   },
   "outputs": [],
   "source": [
    "h.insert(2)"
   ]
  },
  {
   "cell_type": "code",
   "execution_count": 23,
   "metadata": {
    "collapsed": false
   },
   "outputs": [
    {
     "data": {
      "text/plain": [
       "[None, 1, 2, 5, 7, 3, 6, 10, 8, 7, 4]"
      ]
     },
     "execution_count": 23,
     "metadata": {},
     "output_type": "execute_result"
    }
   ],
   "source": [
    "h.dynamic_arr"
   ]
  },
  {
   "cell_type": "code",
   "execution_count": 24,
   "metadata": {
    "collapsed": true
   },
   "outputs": [],
   "source": [
    "h.insert(1)"
   ]
  },
  {
   "cell_type": "code",
   "execution_count": 25,
   "metadata": {
    "collapsed": false
   },
   "outputs": [
    {
     "data": {
      "text/plain": [
       "[None, 1, 1, 5, 7, 2, 6, 10, 8, 7, 4, 3]"
      ]
     },
     "execution_count": 25,
     "metadata": {},
     "output_type": "execute_result"
    }
   ],
   "source": [
    "h.dynamic_arr"
   ]
  },
  {
   "cell_type": "code",
   "execution_count": null,
   "metadata": {
    "collapsed": true
   },
   "outputs": [],
   "source": []
  }
 ],
 "metadata": {
  "kernelspec": {
   "display_name": "Python 3",
   "language": "python",
   "name": "python3"
  },
  "language_info": {
   "codemirror_mode": {
    "name": "ipython",
    "version": 3
   },
   "file_extension": ".py",
   "mimetype": "text/x-python",
   "name": "python",
   "nbconvert_exporter": "python",
   "pygments_lexer": "ipython3",
   "version": "3.6.1"
  }
 },
 "nbformat": 4,
 "nbformat_minor": 2
}
