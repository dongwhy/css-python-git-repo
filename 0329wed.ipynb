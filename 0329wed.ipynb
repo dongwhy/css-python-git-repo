{
 "cells": [
  {
   "cell_type": "code",
   "execution_count": 5,
   "metadata": {
    "collapsed": false
   },
   "outputs": [
    {
     "name": "stdout",
     "output_type": "stream",
     "text": [
      "(1, 2, 3, 4, 'python', 'java')\n",
      "(1, 2, 3, 4, 1, 2, 3, 4, 1, 2, 3, 4)\n",
      "python 1\n"
     ]
    }
   ],
   "source": [
    "# list, tuple, dict [1,2,3,4,]  마지막에 항상 , 넣어주면 좋음\n",
    "\n",
    "# Tuple\n",
    "\n",
    "list1 = []\n",
    "tuple1 = (1,2,3,4)\n",
    "tuple2 = ('python', 'java')\n",
    "print(tuple1 + tuple2)\n",
    "print(tuple1 * 3)\n",
    "\n",
    "sw_x = 1\n",
    "sw_y = 'python'\n",
    "\n",
    "(sw_x, sw_y) = (sw_y, sw_x)\n",
    "print(sw_x, sw_y)"
   ]
  },
  {
   "cell_type": "code",
   "execution_count": 12,
   "metadata": {
    "collapsed": false
   },
   "outputs": [
    {
     "name": "stdout",
     "output_type": "stream",
     "text": [
      "3 1\n"
     ]
    },
    {
     "data": {
      "text/plain": [
       "9272640"
      ]
     },
     "execution_count": 12,
     "metadata": {},
     "output_type": "execute_result"
    }
   ],
   "source": [
    "#몫과 나머지를 구하는 함수\n",
    "def quote_and_rem(a,b):\n",
    "    quot = a // b\n",
    "    rem = a % b\n",
    "    return (quot , rem)\n",
    "\n",
    "(quot, rem) = quote_and_rem(10, 3)\n",
    "print(quot, rem)"
   ]
  },
  {
   "cell_type": "code",
   "execution_count": 13,
   "metadata": {
    "collapsed": false
   },
   "outputs": [
    {
     "name": "stdout",
     "output_type": "stream",
     "text": [
      "9272704 9272640\n"
     ]
    }
   ],
   "source": [
    "print(id(quot), id(rem))"
   ]
  },
  {
   "cell_type": "code",
   "execution_count": 14,
   "metadata": {
    "collapsed": false
   },
   "outputs": [
    {
     "name": "stdout",
     "output_type": "stream",
     "text": [
      "140133130559928\n"
     ]
    }
   ],
   "source": [
    "print(id(sw_x))"
   ]
  },
  {
   "cell_type": "code",
   "execution_count": 15,
   "metadata": {
    "collapsed": false
   },
   "outputs": [
    {
     "name": "stdout",
     "output_type": "stream",
     "text": [
      "9272640\n"
     ]
    }
   ],
   "source": [
    "print(id(sw_y))"
   ]
  },
  {
   "cell_type": "code",
   "execution_count": 17,
   "metadata": {
    "collapsed": false
   },
   "outputs": [
    {
     "name": "stdout",
     "output_type": "stream",
     "text": [
      "140133130559928\n"
     ]
    }
   ],
   "source": [
    "print(id(sw_x))"
   ]
  },
  {
   "cell_type": "code",
   "execution_count": 27,
   "metadata": {
    "collapsed": false
   },
   "outputs": [
    {
     "ename": "TypeError",
     "evalue": "unhashable type: 'list'",
     "output_type": "error",
     "traceback": [
      "\u001b[0;31m---------------------------------------------------------------------------\u001b[0m",
      "\u001b[0;31mTypeError\u001b[0m                                 Traceback (most recent call last)",
      "\u001b[0;32m<ipython-input-27-ce2271b445b6>\u001b[0m in \u001b[0;36m<module>\u001b[0;34m()\u001b[0m\n\u001b[1;32m      7\u001b[0m                 \u001b[0;34m'password'\u001b[0m\u001b[0;34m:\u001b[0m\u001b[0;34m'pppp'\u001b[0m\u001b[0;34m,\u001b[0m\u001b[0;34m\u001b[0m\u001b[0m\n\u001b[1;32m      8\u001b[0m                 \u001b[0;34m'address'\u001b[0m\u001b[0;34m:\u001b[0m\u001b[0;34m'KOREA'\u001b[0m\u001b[0;34m,\u001b[0m\u001b[0;34m\u001b[0m\u001b[0m\n\u001b[0;32m----> 9\u001b[0;31m                 \u001b[0;34m'phone'\u001b[0m\u001b[0;34m:\u001b[0m\u001b[0;34m'010'\u001b[0m\u001b[0;34m,\u001b[0m\u001b[0;34m\u001b[0m\u001b[0m\n\u001b[0m\u001b[1;32m     10\u001b[0m             },\n\u001b[1;32m     11\u001b[0m         ]\n",
      "\u001b[0;31mTypeError\u001b[0m: unhashable type: 'list'"
     ]
    }
   ],
   "source": [
    "dict1 ={\n",
    "    'user':{\n",
    "        [\n",
    "            {\n",
    "                'id':'kdw',\n",
    "                'name':'kim dong wan',\n",
    "                'password':'pppp',\n",
    "                'address':'KOREA',\n",
    "                'phone':'010',\n",
    "            }\n",
    "        ]\n",
    "    }\n",
    "}"
   ]
  },
  {
   "cell_type": "code",
   "execution_count": 32,
   "metadata": {
    "collapsed": false
   },
   "outputs": [
    {
     "name": "stdout",
     "output_type": "stream",
     "text": [
      "dict_keys(['name'])\n"
     ]
    }
   ],
   "source": [
    "dict1 = {}\n",
    "dict1 = {\n",
    "    'name': 'foo bar',\n",
    "}\n",
    "print(dict1.keys())"
   ]
  },
  {
   "cell_type": "code",
   "execution_count": 33,
   "metadata": {
    "collapsed": true
   },
   "outputs": [],
   "source": [
    "input_str = \"\"\"g fmnc wms bgblr rpylqjyrc gr zw fylb. rfyrq ufyr\n",
    "amknsrcpq ypc dmp. bmgle gr gl zw fylb gq glcddgagclr ylb rfyr'q ufw rfgq rcvr\n",
    "gq qm jmle. sqgle qrpgle.kyicrpylq() gq pcamkkclbcb. lmu ynnjw ml rfc\n",
    "spj\"\"\"\n",
    "\n"
   ]
  },
  {
   "cell_type": "code",
   "execution_count": 40,
   "metadata": {
    "collapsed": false
   },
   "outputs": [
    {
     "name": "stdout",
     "output_type": "stream",
     "text": [
      "Hi there, WHat's your name?? kim\n",
      "Hi, kim guess the number : k\n"
     ]
    },
    {
     "ename": "NameError",
     "evalue": "name 'k' is not defined",
     "output_type": "error",
     "traceback": [
      "\u001b[0;31m---------------------------------------------------------------------------\u001b[0m",
      "\u001b[0;31mNameError\u001b[0m                                 Traceback (most recent call last)",
      "\u001b[0;32m<ipython-input-40-3b318be339cd>\u001b[0m in \u001b[0;36m<module>\u001b[0;34m()\u001b[0m\n\u001b[1;32m      2\u001b[0m \u001b[0;34m\u001b[0m\u001b[0m\n\u001b[1;32m      3\u001b[0m \u001b[0musername\u001b[0m \u001b[0;34m=\u001b[0m \u001b[0minput\u001b[0m\u001b[0;34m(\u001b[0m\u001b[0;34m\"Hi there, WHat's your name?? \"\u001b[0m \u001b[0;34m)\u001b[0m\u001b[0;34m\u001b[0m\u001b[0m\n\u001b[0;32m----> 4\u001b[0;31m \u001b[0mguess\u001b[0m \u001b[0;34m=\u001b[0m \u001b[0meval\u001b[0m\u001b[0;34m(\u001b[0m\u001b[0minput\u001b[0m\u001b[0;34m(\u001b[0m\u001b[0;34m\"Hi, \"\u001b[0m \u001b[0;34m+\u001b[0m \u001b[0musername\u001b[0m \u001b[0;34m+\u001b[0m \u001b[0;34m\" guess the number : \"\u001b[0m\u001b[0;34m)\u001b[0m\u001b[0;34m)\u001b[0m\u001b[0;34m\u001b[0m\u001b[0m\n\u001b[0m\u001b[1;32m      5\u001b[0m \u001b[0;34m\u001b[0m\u001b[0m\n\u001b[1;32m      6\u001b[0m \u001b[0manswer\u001b[0m \u001b[0;34m=\u001b[0m \u001b[0mrandom\u001b[0m\u001b[0;34m.\u001b[0m\u001b[0mrandint\u001b[0m\u001b[0;34m(\u001b[0m\u001b[0;36m1\u001b[0m\u001b[0;34m,\u001b[0m\u001b[0;36m100\u001b[0m\u001b[0;34m)\u001b[0m\u001b[0;34m\u001b[0m\u001b[0m\n",
      "\u001b[0;32m<string>\u001b[0m in \u001b[0;36m<module>\u001b[0;34m()\u001b[0m\n",
      "\u001b[0;31mNameError\u001b[0m: name 'k' is not defined"
     ]
    }
   ],
   "source": [
    "import random\n",
    "\n",
    "username = input(\"Hi there, WHat's your name?? \" )\n",
    "guess = eval(input(\"Hi, \" + username + \" guess the number : \"))\n",
    "\n",
    "answer = random.randint(1,100)\n",
    "\n",
    "if type(answer) != type(guess):\n",
    "    print(\"plz, only input number.\")\n",
    "elif guess == answer :\n",
    "    print(\"Correct! THe answer was \" + str(answer))\n",
    "else:\n",
    "    print(\"That's not what I wanted!! The answer was \" + str(answer))"
   ]
  },
  {
   "cell_type": "code",
   "execution_count": 41,
   "metadata": {
    "collapsed": false
   },
   "outputs": [
    {
     "name": "stdout",
     "output_type": "stream",
     "text": [
      "Hi there, WHat's your name?? kim\n",
      "Hi, kim guess the number : k\n"
     ]
    },
    {
     "ename": "NameError",
     "evalue": "name 'k' is not defined",
     "output_type": "error",
     "traceback": [
      "\u001b[0;31m---------------------------------------------------------------------------\u001b[0m",
      "\u001b[0;31mNameError\u001b[0m                                 Traceback (most recent call last)",
      "\u001b[0;32m<ipython-input-41-8c535d6f48f0>\u001b[0m in \u001b[0;36m<module>\u001b[0;34m()\u001b[0m\n\u001b[1;32m      2\u001b[0m \u001b[0;34m\u001b[0m\u001b[0m\n\u001b[1;32m      3\u001b[0m \u001b[0musername\u001b[0m \u001b[0;34m=\u001b[0m \u001b[0minput\u001b[0m\u001b[0;34m(\u001b[0m\u001b[0;34m\"Hi there, WHat's your name?? \"\u001b[0m \u001b[0;34m)\u001b[0m\u001b[0;34m\u001b[0m\u001b[0m\n\u001b[0;32m----> 4\u001b[0;31m \u001b[0mguess\u001b[0m \u001b[0;34m=\u001b[0m \u001b[0meval\u001b[0m\u001b[0;34m(\u001b[0m\u001b[0minput\u001b[0m\u001b[0;34m(\u001b[0m\u001b[0;34m\"Hi, \"\u001b[0m \u001b[0;34m+\u001b[0m \u001b[0musername\u001b[0m \u001b[0;34m+\u001b[0m \u001b[0;34m\" guess the number : \"\u001b[0m\u001b[0;34m)\u001b[0m\u001b[0;34m)\u001b[0m\u001b[0;34m\u001b[0m\u001b[0m\n\u001b[0m\u001b[1;32m      5\u001b[0m \u001b[0;34m\u001b[0m\u001b[0m\n\u001b[1;32m      6\u001b[0m \u001b[0manswer\u001b[0m \u001b[0;34m=\u001b[0m \u001b[0mrandom\u001b[0m\u001b[0;34m.\u001b[0m\u001b[0mrandint\u001b[0m\u001b[0;34m(\u001b[0m\u001b[0;36m1\u001b[0m\u001b[0;34m,\u001b[0m\u001b[0;36m100\u001b[0m\u001b[0;34m)\u001b[0m\u001b[0;34m\u001b[0m\u001b[0m\n",
      "\u001b[0;32m<string>\u001b[0m in \u001b[0;36m<module>\u001b[0;34m()\u001b[0m\n",
      "\u001b[0;31mNameError\u001b[0m: name 'k' is not defined"
     ]
    }
   ],
   "source": [
    "import random\n",
    "\n",
    "username = input(\"Hi there, WHat's your name?? \" )\n",
    "guess = eval(input(\"Hi, \" + username + \" guess the number : \"))\n",
    "\n",
    "answer = random.randint(1,100)"
   ]
  },
  {
   "cell_type": "code",
   "execution_count": 42,
   "metadata": {
    "collapsed": false
   },
   "outputs": [
    {
     "name": "stdout",
     "output_type": "stream",
     "text": [
      "Hi there, WHat's your name?? kim\n",
      "Hi, kim guess the number : 1\n"
     ]
    }
   ],
   "source": [
    "import random\n",
    "\n",
    "username = input(\"Hi there, WHat's your name?? \" )\n",
    "guess = eval(input(\"Hi, \" + username + \" guess the number : \"))\n",
    "\n",
    "answer = random.randint(1,100)"
   ]
  },
  {
   "cell_type": "code",
   "execution_count": 46,
   "metadata": {
    "collapsed": false
   },
   "outputs": [
    {
     "name": "stdout",
     "output_type": "stream",
     "text": [
      "input number : 15\n",
      "fizzbuzz\n",
      "input number : 5\n",
      "buzz\n",
      "input number : 3\n",
      "fizz\n",
      "input number : 9\n",
      "fizz\n",
      "input number : 30\n",
      "fizzbuzz\n",
      "input number : 2\n",
      "no\n"
     ]
    }
   ],
   "source": [
    "# Fizzbuzz\n",
    "\n",
    "while 1:\n",
    "    num = eval(input(\"input number : \"))\n",
    "    if num % 15 == 0 :\n",
    "        print(\"fizzbuzz\")\n",
    "    elif num % 5 == 0 :\n",
    "        print(\"buzz\")\n",
    "    elif num % 3 == 0:\n",
    "        print(\"fizz\")\n",
    "    else:\n",
    "        print(\"no\")\n",
    "        break"
   ]
  },
  {
   "cell_type": "code",
   "execution_count": 48,
   "metadata": {
    "collapsed": false
   },
   "outputs": [
    {
     "name": "stdout",
     "output_type": "stream",
     "text": [
      "TYpe the number : 15\n",
      "1\n",
      "2\n",
      "fizz\n",
      "4\n",
      "buzz\n",
      "fizz\n",
      "7\n",
      "8\n",
      "fizz\n",
      "buzz\n",
      "11\n",
      "fizz\n",
      "13\n",
      "14\n",
      "fizzbuzz\n"
     ]
    }
   ],
   "source": [
    "# Fizzbuzz\n",
    "\n",
    "num = int(input(\"TYpe the number : \"))\n",
    "\n",
    "for i in range(1, num + 1):\n",
    "    if i % 15 == 0 :\n",
    "        print(\"fizzbuzz\")\n",
    "    elif i % 5 == 0 :\n",
    "        print(\"buzz\")\n",
    "    elif i % 3 == 0 :\n",
    "        print(\"fizz\")\n",
    "    else :\n",
    "        print(i)"
   ]
  },
  {
   "cell_type": "code",
   "execution_count": null,
   "metadata": {
    "collapsed": true
   },
   "outputs": [],
   "source": []
  }
 ],
 "metadata": {
  "kernelspec": {
   "display_name": "Python 3",
   "language": "python",
   "name": "python3"
  },
  "language_info": {
   "codemirror_mode": {
    "name": "ipython",
    "version": 3
   },
   "file_extension": ".py",
   "mimetype": "text/x-python",
   "name": "python",
   "nbconvert_exporter": "python",
   "pygments_lexer": "ipython3",
   "version": "3.6.0"
  }
 },
 "nbformat": 4,
 "nbformat_minor": 2
}
