{
 "cells": [
  {
   "cell_type": "code",
   "execution_count": 1,
   "metadata": {
    "collapsed": true
   },
   "outputs": [],
   "source": [
    "#import binary_search"
   ]
  },
  {
   "cell_type": "code",
   "execution_count": 2,
   "metadata": {
    "collapsed": true
   },
   "outputs": [],
   "source": [
    "li = [1, 2, 3, 4, 5, 6, 7, 8, 9, 10,]\n",
    "# 바이너리서치는 데이터가 정렬되어있어야한다.\n",
    "# idx = binary_search(2, li)\n",
    "# idx 값이 1이 나오도록 구현하기\n",
    "# binary_search?"
   ]
  },
  {
   "cell_type": "code",
   "execution_count": 35,
   "metadata": {
    "collapsed": false
   },
   "outputs": [],
   "source": [
    "def binary_search(target, data) :\n",
    "    '''\n",
    "        binary_search(target, data)\n",
    "        \n",
    "        \n",
    "        data : 데이터가 정렬된 상태의 list\n",
    "        \n",
    "        target : 찾고자하는 자료\n",
    "        \n",
    "        return : target이 있는 index\n",
    "    '''\n",
    "    \n",
    "    start = 0\n",
    "    end = len(data) - 1 # end는 인덱스값이기때문에 len - 1을 넣어야함\n",
    "    while start <= end :\n",
    "        mid = ( start + end ) // 2\n",
    "        if data[mid] == target :\n",
    "            return mid\n",
    "        elif data[mid] < target :\n",
    "            start = mid + 1\n",
    "        elif data[mid] > target :\n",
    "            end = mid - 1\n",
    "        else :\n",
    "            return None\n",
    "    \n",
    "    return None"
   ]
  },
  {
   "cell_type": "code",
   "execution_count": 36,
   "metadata": {
    "collapsed": true
   },
   "outputs": [],
   "source": [
    "list1 = [ i for i in range(11) ]\n",
    "target = 2\n",
    "idx = binary_search(target, list1)"
   ]
  },
  {
   "cell_type": "code",
   "execution_count": 37,
   "metadata": {
    "collapsed": false
   },
   "outputs": [
    {
     "name": "stdout",
     "output_type": "stream",
     "text": [
      "2\n"
     ]
    }
   ],
   "source": [
    "if idx :\n",
    "    print(list1[idx])\n",
    "else :\n",
    "    print(\"{} : 찾는 데이터가 없음\".format(target))"
   ]
  },
  {
   "cell_type": "code",
   "execution_count": null,
   "metadata": {
    "collapsed": true
   },
   "outputs": [],
   "source": []
  }
 ],
 "metadata": {
  "kernelspec": {
   "display_name": "Python 3",
   "language": "python",
   "name": "python3"
  },
  "language_info": {
   "codemirror_mode": {
    "name": "ipython",
    "version": 3
   },
   "file_extension": ".py",
   "mimetype": "text/x-python",
   "name": "python",
   "nbconvert_exporter": "python",
   "pygments_lexer": "ipython3",
   "version": "3.6.1"
  }
 },
 "nbformat": 4,
 "nbformat_minor": 2
}
