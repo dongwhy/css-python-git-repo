{
 "cells": [
  {
   "cell_type": "code",
   "execution_count": 5,
   "metadata": {
    "collapsed": true
   },
   "outputs": [],
   "source": [
    "def linear_search(target, data) :        \n",
    "        for i in range(len(data)) :\n",
    "            if target == data[i] :\n",
    "                return i\n",
    "        return None"
   ]
  },
  {
   "cell_type": "code",
   "execution_count": 6,
   "metadata": {
    "collapsed": false
   },
   "outputs": [],
   "source": [
    "list1= [4, 7, 1, 3, 12, 9 ,42, 7,]"
   ]
  },
  {
   "cell_type": "code",
   "execution_count": 14,
   "metadata": {
    "collapsed": false
   },
   "outputs": [
    {
     "name": "stdout",
     "output_type": "stream",
     "text": [
      "2 찾는데이터가없음\n"
     ]
    }
   ],
   "source": [
    "target = 2\n",
    "idx = linear_search(target, list1)\n",
    "if idx :\n",
    "    print(\"{} 찾음\".format(list1[idx]))\n",
    "else :\n",
    "    print(\"{} 찾는데이터가없음\".format(target))"
   ]
  }
 ],
 "metadata": {
  "kernelspec": {
   "display_name": "Python 3",
   "language": "python",
   "name": "python3"
  },
  "language_info": {
   "codemirror_mode": {
    "name": "ipython",
    "version": 3
   },
   "file_extension": ".py",
   "mimetype": "text/x-python",
   "name": "python",
   "nbconvert_exporter": "python",
   "pygments_lexer": "ipython3",
   "version": "3.6.1"
  }
 },
 "nbformat": 4,
 "nbformat_minor": 2
}
