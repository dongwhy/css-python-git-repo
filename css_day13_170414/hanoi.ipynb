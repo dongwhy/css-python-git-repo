{
 "cells": [
  {
   "cell_type": "code",
   "execution_count": 13,
   "metadata": {
    "collapsed": true
   },
   "outputs": [],
   "source": [
    "# hanoi(1, 'A', 'B', 'C') = > A에서 C로 1 번 원반 이동\n",
    "\n",
    "\n",
    "def hanoi(num, _from, _by, _to) :\n",
    "    # 탈출조건\n",
    "    if num == 1 :\n",
    "        print(\"{}에서 {}로 {}번 원반 이동\".format(_from, _to, num))\n",
    "        return\n",
    "    else:\n",
    "        hanoi(num-1, _from, _to, _by)\n",
    "        print(\"{}에서 {}로 {}번 원반 이동\".format(_from, _to, num))\n",
    "        \n",
    "        hanoi(num-1, _by, _from, _to)"
   ]
  },
  {
   "cell_type": "code",
   "execution_count": 14,
   "metadata": {
    "collapsed": false
   },
   "outputs": [
    {
     "name": "stdout",
     "output_type": "stream",
     "text": [
      "A에서 C로 1번 원반 이동\n",
      "A에서 B로 2번 원반 이동\n",
      "C에서 B로 1번 원반 이동\n",
      "A에서 C로 3번 원반 이동\n",
      "B에서 A로 1번 원반 이동\n",
      "B에서 C로 2번 원반 이동\n",
      "A에서 C로 1번 원반 이동\n"
     ]
    }
   ],
   "source": [
    "hanoi(3, 'A', 'B', 'C')"
   ]
  },
  {
   "cell_type": "code",
   "execution_count": null,
   "metadata": {
    "collapsed": true
   },
   "outputs": [],
   "source": []
  }
 ],
 "metadata": {
  "kernelspec": {
   "display_name": "Python 3",
   "language": "python",
   "name": "python3"
  },
  "language_info": {
   "codemirror_mode": {
    "name": "ipython",
    "version": 3
   },
   "file_extension": ".py",
   "mimetype": "text/x-python",
   "name": "python",
   "nbconvert_exporter": "python",
   "pygments_lexer": "ipython3",
   "version": "3.6.1"
  }
 },
 "nbformat": 4,
 "nbformat_minor": 2
}
