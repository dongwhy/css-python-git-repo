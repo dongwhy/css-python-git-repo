{
 "cells": [
  {
   "cell_type": "code",
   "execution_count": 1,
   "metadata": {
    "collapsed": true
   },
   "outputs": [],
   "source": [
    "import pickle"
   ]
  },
  {
   "cell_type": "code",
   "execution_count": 2,
   "metadata": {
    "collapsed": true
   },
   "outputs": [],
   "source": [
    "pickle.dump?"
   ]
  },
  {
   "cell_type": "code",
   "execution_count": 3,
   "metadata": {
    "collapsed": true
   },
   "outputs": [],
   "source": [
    "with open(\"class_A.bin\", \"rb\") as f:\n",
    "    data1 = pickle.load(f)\n",
    "    data2 = pickle.load(f)"
   ]
  },
  {
   "cell_type": "code",
   "execution_count": 6,
   "metadata": {
    "collapsed": false
   },
   "outputs": [
    {
     "name": "stdout",
     "output_type": "stream",
     "text": [
      "{'greg': 95} {'john': 25}\n"
     ]
    }
   ],
   "source": [
    "print(data1, data2)"
   ]
  },
  {
   "cell_type": "code",
   "execution_count": 5,
   "metadata": {
    "collapsed": false
   },
   "outputs": [
    {
     "data": {
      "text/plain": [
       "{'john': 25}"
      ]
     },
     "execution_count": 5,
     "metadata": {},
     "output_type": "execute_result"
    }
   ],
   "source": [
    "data2"
   ]
  },
  {
   "cell_type": "code",
   "execution_count": 8,
   "metadata": {
    "collapsed": false
   },
   "outputs": [],
   "source": [
    "fp = open('test.txt', 'r')"
   ]
  },
  {
   "cell_type": "code",
   "execution_count": 9,
   "metadata": {
    "collapsed": false
   },
   "outputs": [
    {
     "data": {
      "text/plain": [
       "['I am your father.\\n', 'what is your name?\\n', 'my name']"
      ]
     },
     "execution_count": 9,
     "metadata": {},
     "output_type": "execute_result"
    }
   ],
   "source": [
    "# readline()\n",
    "\n",
    "text_list = []\n",
    "while True:\n",
    "    data = fp.readline()\n",
    "    if data :\n",
    "        text_list.append(data)\n",
    "    else :\n",
    "        break\n",
    "text_list"
   ]
  },
  {
   "cell_type": "code",
   "execution_count": 11,
   "metadata": {
    "collapsed": false
   },
   "outputs": [
    {
     "data": {
      "text/plain": [
       "[{'greg': 95},\n",
       " {'john': 25},\n",
       " {'yang': 50},\n",
       " {'timothy': 15},\n",
       " {'melisa': 100},\n",
       " {'thor': 10},\n",
       " {'elen': 25},\n",
       " {'mark': 80},\n",
       " {'steve': 95},\n",
       " {'anna': 20}]"
      ]
     },
     "execution_count": 11,
     "metadata": {},
     "output_type": "execute_result"
    }
   ],
   "source": [
    "# pickle.load 에러처리\n",
    "\n",
    "fp2 = open(\"class_A.bin\", 'rb')\n",
    "pickle_list = []\n",
    "while True :\n",
    "    try :\n",
    "        data = pickle.load(fp2)\n",
    "        pickle_list.append(data)\n",
    "    except EOFError :\n",
    "        break;\n",
    "pickle_list"
   ]
  },
  {
   "cell_type": "code",
   "execution_count": 12,
   "metadata": {
    "collapsed": true
   },
   "outputs": [],
   "source": [
    "fp = open(\"abc.bin\", \"wb\")\n",
    "data = [\n",
    "    {'greg' : 95},\n",
    "    {'tom' : 85},\n",
    "    {'sara' : 56}\n",
    "]"
   ]
  },
  {
   "cell_type": "code",
   "execution_count": 14,
   "metadata": {
    "collapsed": true
   },
   "outputs": [],
   "source": [
    "for d in data:\n",
    "    pickle.dump(d, fp)"
   ]
  },
  {
   "cell_type": "code",
   "execution_count": 15,
   "metadata": {
    "collapsed": false
   },
   "outputs": [
    {
     "data": {
      "text/plain": [
       "[{'greg': 95}, {'tom': 85}, {'sara': 56}]"
      ]
     },
     "execution_count": 15,
     "metadata": {},
     "output_type": "execute_result"
    }
   ],
   "source": [
    "fp.close()\n",
    "fp2 = open(\"abc.bin\", \"rb\")\n",
    "result = []\n",
    "for i in range(3):\n",
    "    result.append(pickle.load(fp2))\n",
    "\n",
    "result \n"
   ]
  },
  {
   "cell_type": "code",
   "execution_count": 16,
   "metadata": {
    "collapsed": false
   },
   "outputs": [
    {
     "name": "stdout",
     "output_type": "stream",
     "text": [
      "12는 재밌어, abc는 싫어\n",
      "내 이름은 greg이고 나이는 18인데 그 나이 18는 사실 거짓말이야\n",
      "18 greg\n"
     ]
    }
   ],
   "source": [
    "a = 12\n",
    "b = \"abc\"\n",
    "print(\"{}는 재밌어, {}는 싫어\".format(a, b))\n",
    "\n",
    "age = 18\n",
    "name = \"greg\"\n",
    "print(\"내 이름은 {n}이고 나이는 {a}인데 그 나이 {a}는 사실 거짓말이야\".format(n=name, a=age))\n",
    "print(age, name)"
   ]
  },
  {
   "cell_type": "code",
   "execution_count": 41,
   "metadata": {
    "collapsed": false
   },
   "outputs": [],
   "source": [
    "class Person :\n",
    "    # member + method = attribute\n",
    "    # member\n",
    "    def __init__(self, name, age, money):\n",
    "        self.name = name\n",
    "        self.age = age\n",
    "        self.money = money\n",
    "        self.hp = 100\n",
    "    \n",
    "    # method\n",
    "    def givemoney(self, other, money) :\n",
    "        self.money -= money\n",
    "        other.money += money\n",
    "    \n",
    "    def under_stress(self, hp) :\n",
    "        self.hp -= hp\n",
    "        \n",
    "    def showinfo(self) :\n",
    "        print(\"money : {} \\n age : {}\".format(self.money, self.age))\n",
    "        \n",
    "class CD :\n",
    "    def __init__(self, local, capacity) :\n",
    "        self.local = local\n",
    "        self.capacity = capacity\n",
    "                \n",
    "    def givemoney(self, person, money) :\n",
    "        self.capacity -= money\n",
    "        person.money += money\n",
    "        \n",
    "    def showinfo(self) :\n",
    "        print(\"cd name : {} \\n capacity : {}\".format(self.local, self.capacity))"
   ]
  },
  {
   "cell_type": "code",
   "execution_count": 30,
   "metadata": {
    "collapsed": true
   },
   "outputs": [],
   "source": [
    "person_1 = Person(\"greg\", 18, 5000)\n",
    "person_2 = Person(\"matt\", 25, 1000)"
   ]
  },
  {
   "cell_type": "code",
   "execution_count": 31,
   "metadata": {
    "collapsed": false
   },
   "outputs": [],
   "source": [
    "person_1.givemoney(person_2, 2000)"
   ]
  },
  {
   "cell_type": "code",
   "execution_count": 32,
   "metadata": {
    "collapsed": false
   },
   "outputs": [
    {
     "name": "stdout",
     "output_type": "stream",
     "text": [
      "money : 3000 \n",
      " age : 18\n",
      "money : 3000 \n",
      " age : 25\n"
     ]
    }
   ],
   "source": [
    "person_1.showinfo()\n",
    "person_2.showinfo()"
   ]
  },
  {
   "cell_type": "code",
   "execution_count": 43,
   "metadata": {
    "collapsed": true
   },
   "outputs": [],
   "source": [
    "cd_1 = CD(\"서울대\", 20000000)"
   ]
  },
  {
   "cell_type": "code",
   "execution_count": 44,
   "metadata": {
    "collapsed": true
   },
   "outputs": [],
   "source": [
    "cd_1.givemoney(person_1, 10000)"
   ]
  },
  {
   "cell_type": "code",
   "execution_count": 45,
   "metadata": {
    "collapsed": false
   },
   "outputs": [
    {
     "name": "stdout",
     "output_type": "stream",
     "text": [
      "cd name : 서울대 \n",
      " capacity : 19990000\n"
     ]
    }
   ],
   "source": [
    "cd_1.showinfo()"
   ]
  },
  {
   "cell_type": "code",
   "execution_count": 46,
   "metadata": {
    "collapsed": false
   },
   "outputs": [
    {
     "name": "stdout",
     "output_type": "stream",
     "text": [
      "money : 3000 \n",
      " age : 18\n"
     ]
    }
   ],
   "source": [
    "person_1.showinfo()"
   ]
  },
  {
   "cell_type": "code",
   "execution_count": null,
   "metadata": {
    "collapsed": true
   },
   "outputs": [],
   "source": []
  }
 ],
 "metadata": {
  "kernelspec": {
   "display_name": "Python 3",
   "language": "python",
   "name": "python3"
  },
  "language_info": {
   "codemirror_mode": {
    "name": "ipython",
    "version": 3
   },
   "file_extension": ".py",
   "mimetype": "text/x-python",
   "name": "python",
   "nbconvert_exporter": "python",
   "pygments_lexer": "ipython3",
   "version": "3.6.1"
  }
 },
 "nbformat": 4,
 "nbformat_minor": 2
}
