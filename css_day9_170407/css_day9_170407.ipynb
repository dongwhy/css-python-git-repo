{
 "cells": [
  {
   "cell_type": "code",
   "execution_count": 1,
   "metadata": {
    "collapsed": true
   },
   "outputs": [],
   "source": [
    "#상속 = 자식 클래스가 부모 클래스의 모든 멤버와 메소드를 이어받는다\n",
    "\n",
    "class Base :\n",
    "    def __init__(self, a, b) :\n",
    "        self.a = a\n",
    "        self.b = b\n",
    "        \n",
    "    def func1(self) :\n",
    "        print(\"func1 called\")\n",
    "    \n",
    "class Derived(Base) :\n",
    "    pass"
   ]
  },
  {
   "cell_type": "code",
   "execution_count": 2,
   "metadata": {
    "collapsed": true
   },
   "outputs": [],
   "source": [
    "d = Derived(5, 3)"
   ]
  },
  {
   "cell_type": "code",
   "execution_count": 3,
   "metadata": {
    "collapsed": false
   },
   "outputs": [
    {
     "name": "stdout",
     "output_type": "stream",
     "text": [
      "5 3\n"
     ]
    }
   ],
   "source": [
    "print(d.a, d.b)"
   ]
  },
  {
   "cell_type": "code",
   "execution_count": 4,
   "metadata": {
    "collapsed": false
   },
   "outputs": [
    {
     "name": "stdout",
     "output_type": "stream",
     "text": [
      "func1 called\n"
     ]
    }
   ],
   "source": [
    "d.func1()"
   ]
  },
  {
   "cell_type": "code",
   "execution_count": 14,
   "metadata": {
    "collapsed": false
   },
   "outputs": [],
   "source": [
    "# 부모클래스 (Computer) : 자식이 모두가지고 있는 공통된 속성(attribute)을 모두 정의\n",
    "class Computer :\n",
    "    def __init__(self, cpu, ram, hard_disk):\n",
    "        self.cpu = cpu\n",
    "        self.ram = ram\n",
    "        self.hard_disk = hard_disk\n",
    "\n",
    "    def calculate(self) :\n",
    "        pass\n",
    "        \n",
    "    def calculate(self) :\n",
    "        print(\"calculating\")    \n",
    "    \n",
    "    def __str__(self) :\n",
    "        return \"I am a computer\"\n",
    "    \n",
    "class Laptop(Computer) :\n",
    "    def __init__(self, cpu, ram, hard_disk, touch = \"normal\", cam = \"small\") :\n",
    "        #1번째방법 : 클래스 이름으로 접근\n",
    "        Computer.__init__(self, cpu, ram, hard_disk)        \n",
    "        self.touch = touch\n",
    "        self.cam = cam\n",
    "\n",
    "    def calculate(self) :\n",
    "        print(\"laptop calculating : a little bit slow\")\n",
    "        \n",
    "    def __str__(self) :\n",
    "        return super(Laptop, self).__str__() + \"but i have mobility\"\n",
    "        #return \"I am a computer but I have mobility\"\n",
    "        \n",
    "class Desktop(Computer) :\n",
    "    def __init__ ( self, cpu, ram, hard_disk, external_graphic = \"Geforce\") :\n",
    "        supter(Desktop, self).__init__(cpu, ram, hard_disk)\n",
    "        \n",
    "    def calculate(self) :\n",
    "        print(\"Desktop calculating \")\n",
    "    \n",
    "        \n",
    "    "
   ]
  },
  {
   "cell_type": "code",
   "execution_count": 10,
   "metadata": {
    "collapsed": false
   },
   "outputs": [],
   "source": [
    "l1 = Laptop(\"i5\", \"12g\", \"1t\")"
   ]
  },
  {
   "cell_type": "code",
   "execution_count": 11,
   "metadata": {
    "collapsed": false
   },
   "outputs": [
    {
     "name": "stdout",
     "output_type": "stream",
     "text": [
      "laptop calculating : a little bit slow\n"
     ]
    }
   ],
   "source": [
    "l1.calculate()"
   ]
  },
  {
   "cell_type": "code",
   "execution_count": 24,
   "metadata": {
    "collapsed": false
   },
   "outputs": [],
   "source": [
    "class Gun :\n",
    "    def __init__(self, kind):\n",
    "        self.kind = kind\n",
    "        \n",
    "    def bang (self) :\n",
    "        print(\"빵빵\")\n",
    "        \n",
    "# 객체합성\n",
    "class Police :\n",
    "    def __init__(self, gun_kind = \"\"):\n",
    "        if gun_kind :\n",
    "            self.gun = Gun(gun_kind) #Gun(gun_kind) 은 생성자\n",
    "        else :\n",
    "            self.gun = None\n",
    "    \n",
    "    def get_gun(self, gun_kind):\n",
    "        self.gun = Gun(gun_kind)\n",
    "    \n",
    "    def shoot (self):\n",
    "        if self.gun :\n",
    "            self.gun.bang()\n",
    "        else:\n",
    "            print(\"너 총 없어 못쏴\")\n",
    "    "
   ]
  },
  {
   "cell_type": "code",
   "execution_count": 18,
   "metadata": {
    "collapsed": true
   },
   "outputs": [],
   "source": [
    "p1 = Police(\"리볼버\")"
   ]
  },
  {
   "cell_type": "code",
   "execution_count": 19,
   "metadata": {
    "collapsed": false
   },
   "outputs": [
    {
     "name": "stdout",
     "output_type": "stream",
     "text": [
      "빵빵\n"
     ]
    }
   ],
   "source": [
    "p1.shoot()"
   ]
  },
  {
   "cell_type": "code",
   "execution_count": 20,
   "metadata": {
    "collapsed": true
   },
   "outputs": [],
   "source": [
    "p2 = Police() # 총없을때"
   ]
  },
  {
   "cell_type": "code",
   "execution_count": 21,
   "metadata": {
    "collapsed": false
   },
   "outputs": [
    {
     "name": "stdout",
     "output_type": "stream",
     "text": [
      "너 총 없어 못쏴\n"
     ]
    }
   ],
   "source": [
    "p2.shoot()"
   ]
  },
  {
   "cell_type": "code",
   "execution_count": 25,
   "metadata": {
    "collapsed": false
   },
   "outputs": [
    {
     "ename": "AttributeError",
     "evalue": "'Police' object has no attribute 'get_gun'",
     "output_type": "error",
     "traceback": [
      "\u001b[1;31m---------------------------------------------------------------------------\u001b[0m",
      "\u001b[1;31mAttributeError\u001b[0m                            Traceback (most recent call last)",
      "\u001b[1;32m<ipython-input-25-b44394c1caad>\u001b[0m in \u001b[0;36m<module>\u001b[1;34m()\u001b[0m\n\u001b[1;32m----> 1\u001b[1;33m \u001b[0mp2\u001b[0m\u001b[1;33m.\u001b[0m\u001b[0mget_gun\u001b[0m\u001b[1;33m(\u001b[0m\u001b[1;34m\"기관총\"\u001b[0m\u001b[1;33m)\u001b[0m\u001b[1;33m\u001b[0m\u001b[0m\n\u001b[0m",
      "\u001b[1;31mAttributeError\u001b[0m: 'Police' object has no attribute 'get_gun'"
     ]
    }
   ],
   "source": [
    "p2.get_gun(\"기관총\")"
   ]
  },
  {
   "cell_type": "code",
   "execution_count": null,
   "metadata": {
    "collapsed": true
   },
   "outputs": [],
   "source": []
  },
  {
   "cell_type": "code",
   "execution_count": null,
   "metadata": {
    "collapsed": true
   },
   "outputs": [],
   "source": []
  }
 ],
 "metadata": {
  "kernelspec": {
   "display_name": "Python 3",
   "language": "python",
   "name": "python3"
  },
  "language_info": {
   "codemirror_mode": {
    "name": "ipython",
    "version": 3
   },
   "file_extension": ".py",
   "mimetype": "text/x-python",
   "name": "python",
   "nbconvert_exporter": "python",
   "pygments_lexer": "ipython3",
   "version": "3.6.1"
  }
 },
 "nbformat": 4,
 "nbformat_minor": 2
}
