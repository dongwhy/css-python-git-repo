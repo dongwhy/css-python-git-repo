{
 "cells": [
  {
   "cell_type": "code",
   "execution_count": 6,
   "metadata": {
    "collapsed": false
   },
   "outputs": [],
   "source": [
    "from person import Person\n",
    "\n",
    "class Buyer(Person):\n",
    "    def __init__(self, name, age, money, product):\n",
    "        super().__init__(name, age, money)\n",
    "        self.product = product\n",
    "    \n",
    "    def buy(self, other, how_many):\n",
    "        other.sell(self, how_many)\n",
    "        self.product += how_many\n",
    "        \n",
    "    def __str__(self):\n",
    "        return super().__str__() + '''\n",
    "I am a buyer.\n",
    "I have {} products'''.format(self.product)\n"
   ]
  },
  {
   "cell_type": "code",
   "execution_count": 12,
   "metadata": {
    "collapsed": false
   },
   "outputs": [
    {
     "name": "stdout",
     "output_type": "stream",
     "text": [
      "\n",
      "My name is greg \n",
      "I am 18 years old\n",
      "I have 3000 won\n",
      "I am a buyer.\n",
      "I have 0 products\n",
      "\n",
      "My name is kim \n",
      "I am 25 years old\n",
      "I have 2000 won\n",
      "I am a retialer.\n",
      "I have 20 products\n",
      "        \n"
     ]
    }
   ],
   "source": [
    "from retailer import Retailer\n",
    "\n",
    "b1 = Buyer(\"greg\", 18, 3000, 0)\n",
    "r1 = Retailer(\"kim\", 25, 2000, 20)\n",
    "\n",
    "print(b1)\n",
    "print(r1)\n",
    "\n",
    "b1.buy(r1, 3) # 3개를 구매하기"
   ]
  },
  {
   "cell_type": "code",
   "execution_count": 13,
   "metadata": {
    "collapsed": false
   },
   "outputs": [
    {
     "name": "stdout",
     "output_type": "stream",
     "text": [
      "\n",
      "My name is greg \n",
      "I am 18 years old\n",
      "I have 0 won\n",
      "I am a buyer.\n",
      "I have 3 products\n"
     ]
    }
   ],
   "source": [
    "print(b1)"
   ]
  },
  {
   "cell_type": "code",
   "execution_count": 14,
   "metadata": {
    "collapsed": false
   },
   "outputs": [
    {
     "name": "stdout",
     "output_type": "stream",
     "text": [
      "\n",
      "My name is kim \n",
      "I am 25 years old\n",
      "I have 5000 won\n",
      "I am a retialer.\n",
      "I have 17 products\n",
      "        \n"
     ]
    }
   ],
   "source": [
    "print(r1)"
   ]
  },
  {
   "cell_type": "code",
   "execution_count": null,
   "metadata": {
    "collapsed": true
   },
   "outputs": [],
   "source": []
  }
 ],
 "metadata": {
  "kernelspec": {
   "display_name": "Python 3",
   "language": "python",
   "name": "python3"
  },
  "language_info": {
   "codemirror_mode": {
    "name": "ipython",
    "version": 3
   },
   "file_extension": ".py",
   "mimetype": "text/x-python",
   "name": "python",
   "nbconvert_exporter": "python",
   "pygments_lexer": "ipython3",
   "version": "3.6.1"
  }
 },
 "nbformat": 4,
 "nbformat_minor": 2
}
