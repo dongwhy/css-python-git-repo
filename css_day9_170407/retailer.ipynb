{
 "cells": [
  {
   "cell_type": "code",
   "execution_count": 1,
   "metadata": {
    "collapsed": false
   },
   "outputs": [
    {
     "name": "stdout",
     "output_type": "stream",
     "text": [
      "\n",
      "My name is greg \n",
      "I am 18 years old\n",
      "I have 5000 won\n",
      "\n",
      "My name is kim \n",
      "I am 22 years old\n",
      "I have 1000 won\n",
      "\n",
      "My name is greg \n",
      "I am 18 years old\n",
      "I have 3000 won\n",
      "\n",
      "My name is kim \n",
      "I am 22 years old\n",
      "I have 3000 won\n"
     ]
    }
   ],
   "source": [
    "from person import Person #person.py 에서 Person 클래스 가져오기\n",
    "\n",
    "#import person  : person.py를 가져온다."
   ]
  },
  {
   "cell_type": "code",
   "execution_count": 15,
   "metadata": {
    "collapsed": true
   },
   "outputs": [],
   "source": [
    "class Retailer(Person) :\n",
    "    price = 1000 # product의 가격\n",
    "    \n",
    "    #생성자\n",
    "    def __init__(self, name, age, money, product):\n",
    "        super().__init__(name, age, money)\n",
    "        self.product = product\n",
    "    \n",
    "    def sell(self, other, how_many ):\n",
    "        if self.product > how_many:\n",
    "            self.product -= how_many\n",
    "            total = self.price * how_many\n",
    "            other.give_money(self, total)\n",
    "        \n",
    "        else :\n",
    "            print(\"물량부족\")\n",
    "    \n",
    "    def __str__(self):\n",
    "        return super().__str__() + '''\n",
    "I am a retailer.\n",
    "I have {} products\n",
    "        '''.format(self.product)"
   ]
  },
  {
   "cell_type": "code",
   "execution_count": 16,
   "metadata": {
    "collapsed": true
   },
   "outputs": [],
   "source": [
    "r1 = Retailer(\"yang\", 18, 5000, 20)"
   ]
  },
  {
   "cell_type": "code",
   "execution_count": 17,
   "metadata": {
    "collapsed": true
   },
   "outputs": [],
   "source": [
    "p1 = Person(\"kim\", 13, 6000)"
   ]
  },
  {
   "cell_type": "code",
   "execution_count": 18,
   "metadata": {
    "collapsed": false
   },
   "outputs": [
    {
     "name": "stdout",
     "output_type": "stream",
     "text": [
      "\n",
      "My name is yang \n",
      "I am 18 years old\n",
      "I have 5000 won\n",
      "I am a retailer.\n",
      "I have 20 products\n",
      "        \n"
     ]
    }
   ],
   "source": [
    "print(r1)"
   ]
  },
  {
   "cell_type": "code",
   "execution_count": null,
   "metadata": {
    "collapsed": true
   },
   "outputs": [],
   "source": []
  }
 ],
 "metadata": {
  "kernelspec": {
   "display_name": "Python 3",
   "language": "python",
   "name": "python3"
  },
  "language_info": {
   "codemirror_mode": {
    "name": "ipython",
    "version": 3
   },
   "file_extension": ".py",
   "mimetype": "text/x-python",
   "name": "python",
   "nbconvert_exporter": "python",
   "pygments_lexer": "ipython3",
   "version": "3.6.1"
  }
 },
 "nbformat": 4,
 "nbformat_minor": 2
}
