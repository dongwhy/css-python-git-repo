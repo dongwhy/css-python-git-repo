{
 "cells": [
  {
   "cell_type": "code",
   "execution_count": null,
   "metadata": {
    "collapsed": false
   },
   "outputs": [
    {
     "name": "stdout",
     "output_type": "stream",
     "text": [
      "Decide Secret number: 2\n",
      "Enter the message: abcdefg\n",
      "encrypted message: cdefghi\n",
      "decrypted message: abcdefg\n"
     ]
    }
   ],
   "source": [
    "import string\n",
    "from string import ascii_uppercase as up_case\n",
    "from string import ascii_lowercase as lo_case\n",
    "\n",
    "def caesar(s, k, decode = False): #s는 msg, k는 encrypt_key\n",
    "    if decode:\n",
    "        k = 26 - k\n",
    "    return s.translate( # 아스키코드를 다시 문자로 변경\n",
    "        str.maketrans(  # 아스키로 바꿔주는 maketrans()\n",
    "            up_case + lo_case,\n",
    "            up_case[k:] + up_case[:k] + lo_case[k:] + lo_case[:k]\n",
    "            )\n",
    "    )\n",
    "    \n",
    "\n",
    "while True:\n",
    "    encrypt_key = int(input(\"Decide Secret number: \"))\n",
    "    msg = input(\"Enter the message: \")\n",
    "    print(\"encrypted message:\", caesar(msg, encrypt_key))\n",
    "    print(\"decrypted message:\", caesar(caesar(msg, encrypt_key), encrypt_key, True))\n",
    "    \n",
    "    exit = input(\"press q to quit\")\n",
    "          \n",
    "    if exit == 'q' or 'Q':\n",
    "          break\n",
    "    "
   ]
  },
  {
   "cell_type": "code",
   "execution_count": null,
   "metadata": {
    "collapsed": true
   },
   "outputs": [],
   "source": [
    "\n"
   ]
  }
 ],
 "metadata": {
  "kernelspec": {
   "display_name": "Python 3",
   "language": "python",
   "name": "python3"
  },
  "language_info": {
   "codemirror_mode": {
    "name": "ipython",
    "version": 3
   },
   "file_extension": ".py",
   "mimetype": "text/x-python",
   "name": "python",
   "nbconvert_exporter": "python",
   "pygments_lexer": "ipython3",
   "version": "3.6.0"
  }
 },
 "nbformat": 4,
 "nbformat_minor": 2
}
