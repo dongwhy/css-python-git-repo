{
 "cells": [
  {
   "cell_type": "code",
   "execution_count": 13,
   "metadata": {
    "collapsed": true
   },
   "outputs": [],
   "source": [
    "# 절차지향으로 구현\n",
    "# score = [95, 23, 46, 25]\n",
    "# scores [95, 23, 25, 62] avrg : 50\n",
    "#  sum((각 점수 - 평균)**2 )/ 데이터의 개수\n",
    "from functools import reduce\n",
    "\n",
    "def average(score):\n",
    "    return reduce(lambda a, b : a + b, score)/ len(score)\n",
    "\n",
    "def variance(score, avrg):\n",
    "    return reduce(lambda a, b : a + b , map(lambda e : (e - avrg)**2, score))/len(score)\n",
    "\n",
    "def evaluateClass(avrg, std_dev):\n",
    "    if avrg <50 and std_dev >20:\n",
    "        print(\"성적이 너무 저조하고 학생들의 실력 차이가 너무 크다.\")\n",
    "    elif avrg > 50 and std_dev >20:\n",
    "        print(\"성적은 평균이상이지만 학생들 실력 차이가 크다. 주의 요망!\")\n",
    "    elif avrg < 50 and std_dev <20:\n",
    "        print(\"학생들간 실력차는 나지 않으나 성적이 너무 저조하다. 주의 요망!\")\n",
    "    elif avrg > 50 and std_dev <20:\n",
    "        print(\"성적도 평균 이상이고 학생들의 실력차도 크지 않다.\")\n"
   ]
  },
  {
   "cell_type": "code",
   "execution_count": 2,
   "metadata": {
    "collapsed": true
   },
   "outputs": [],
   "source": [
    "f = open(\"class_A.bin\", \"rb\")"
   ]
  },
  {
   "cell_type": "code",
   "execution_count": 34,
   "metadata": {
    "collapsed": false
   },
   "outputs": [],
   "source": [
    "items = []\n",
    "\n",
    "import pickle\n",
    "\n",
    "while True :\n",
    "    try :\n",
    "        data = pickle.load(f)\n",
    "    except EOFError:\n",
    "        break\n",
    "    items.append(data)\n",
    "\n",
    "f.close()"
   ]
  },
  {
   "cell_type": "code",
   "execution_count": 5,
   "metadata": {
    "collapsed": false
   },
   "outputs": [
    {
     "name": "stdout",
     "output_type": "stream",
     "text": [
      "[{'greg': 95}, {'john': 25}, {'yang': 50}, {'timothy': 15}, {'melisa': 100}, {'thor': 10}, {'elen': 25}, {'mark': 80}, {'steve': 95}, {'anna': 20}]\n"
     ]
    }
   ],
   "source": [
    "print(items)"
   ]
  },
  {
   "cell_type": "code",
   "execution_count": 6,
   "metadata": {
    "collapsed": true
   },
   "outputs": [],
   "source": [
    "# li = [95, 25, 50, 15 ,... ,20]\n",
    "scores = []\n",
    "\n",
    "def items_value(items):\n",
    "    for i in items :\n",
    "        for value in i.values() :\n",
    "            scores.append(value)\n",
    "            "
   ]
  },
  {
   "cell_type": "code",
   "execution_count": 8,
   "metadata": {
    "collapsed": false
   },
   "outputs": [],
   "source": [
    "items_value(items)"
   ]
  },
  {
   "cell_type": "code",
   "execution_count": 9,
   "metadata": {
    "collapsed": false
   },
   "outputs": [
    {
     "data": {
      "text/plain": [
       "[95, 25, 50, 15, 100, 10, 25, 80, 95, 20]"
      ]
     },
     "execution_count": 9,
     "metadata": {},
     "output_type": "execute_result"
    }
   ],
   "source": [
    "scores"
   ]
  },
  {
   "cell_type": "code",
   "execution_count": 10,
   "metadata": {
    "collapsed": true
   },
   "outputs": [],
   "source": [
    "dic = dict(one = 1, two = 2, three = 3)"
   ]
  },
  {
   "cell_type": "code",
   "execution_count": 11,
   "metadata": {
    "collapsed": false
   },
   "outputs": [
    {
     "name": "stdout",
     "output_type": "stream",
     "text": [
      "('one', 1)\n",
      "('two', 2)\n",
      "('three', 3)\n"
     ]
    }
   ],
   "source": [
    "for key, value in dic.items():\n",
    "    pass\n",
    "for one in dic.items():\n",
    "    print(one)"
   ]
  },
  {
   "cell_type": "code",
   "execution_count": 14,
   "metadata": {
    "collapsed": false
   },
   "outputs": [],
   "source": [
    "avrg = average(scores)"
   ]
  },
  {
   "cell_type": "code",
   "execution_count": 15,
   "metadata": {
    "collapsed": false
   },
   "outputs": [
    {
     "data": {
      "text/plain": [
       "51.5"
      ]
     },
     "execution_count": 15,
     "metadata": {},
     "output_type": "execute_result"
    }
   ],
   "source": [
    "avrg"
   ]
  },
  {
   "cell_type": "code",
   "execution_count": 16,
   "metadata": {
    "collapsed": true
   },
   "outputs": [],
   "source": [
    "vari = round(variance(scores, avrg), 1)"
   ]
  },
  {
   "cell_type": "code",
   "execution_count": 17,
   "metadata": {
    "collapsed": false
   },
   "outputs": [
    {
     "data": {
      "text/plain": [
       "1240.2"
      ]
     },
     "execution_count": 17,
     "metadata": {},
     "output_type": "execute_result"
    }
   ],
   "source": [
    "vari"
   ]
  },
  {
   "cell_type": "code",
   "execution_count": 21,
   "metadata": {
    "collapsed": false
   },
   "outputs": [],
   "source": [
    "import math\n",
    "std_dev = round(math.sqrt(vari), 1)"
   ]
  },
  {
   "cell_type": "code",
   "execution_count": 22,
   "metadata": {
    "collapsed": false
   },
   "outputs": [
    {
     "data": {
      "text/plain": [
       "35.2"
      ]
     },
     "execution_count": 22,
     "metadata": {},
     "output_type": "execute_result"
    }
   ],
   "source": [
    "std_dev"
   ]
  },
  {
   "cell_type": "code",
   "execution_count": 33,
   "metadata": {
    "collapsed": false
   },
   "outputs": [
    {
     "name": "stdout",
     "output_type": "stream",
     "text": [
      "\n",
      "\n",
      "**************************************************\n",
      "A반 성적 분석 결과\n",
      "**************************************************\n",
      "A반의 평균은 51.5점이고 분산은 1240.2이며, 따라서 표준편차는 35.2이다\n",
      "**************************************************\n",
      "A반 종합 평가\n",
      "**************************************************\n",
      "\n",
      "\n"
     ]
    }
   ],
   "source": [
    "print(\"\\n\")\n",
    "\n",
    "print('*' * 50)\n",
    "print(\"A반 성적 분석 결과\")\n",
    "print('*' * 50)\n",
    "print(\"A반의 평균은 {0}점이고 분산은 {1}이며, 따라서 표준편차는 {2}이다\".format(avrg, vari, std_dev))\n",
    "print('*' * 50)\n",
    "print(\"A반 종합 평가\")\n",
    "print('*' * 50)\n",
    "\n",
    "print('\\n')"
   ]
  },
  {
   "cell_type": "code",
   "execution_count": null,
   "metadata": {
    "collapsed": true
   },
   "outputs": [],
   "source": []
  }
 ],
 "metadata": {
  "kernelspec": {
   "display_name": "Python 3",
   "language": "python",
   "name": "python3"
  },
  "language_info": {
   "codemirror_mode": {
    "name": "ipython",
    "version": 3
   },
   "file_extension": ".py",
   "mimetype": "text/x-python",
   "name": "python",
   "nbconvert_exporter": "python",
   "pygments_lexer": "ipython3",
   "version": "3.6.1"
  }
 },
 "nbformat": 4,
 "nbformat_minor": 2
}
